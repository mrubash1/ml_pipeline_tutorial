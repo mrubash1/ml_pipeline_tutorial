{
 "cells": [
  {
   "cell_type": "markdown",
   "metadata": {},
   "source": [
    "### Import pre-existing modules"
   ]
  },
  {
   "cell_type": "code",
   "execution_count": 5,
   "metadata": {},
   "outputs": [],
   "source": [
    "#saving images and vision analysis\n",
    "import io\n",
    "import os\n",
    "import time\n",
    "from PIL import Image\n",
    "\n",
    "#uploading to google cloud storage\n",
    "from gcloud import storage\n",
    "from oauth2client.service_account import ServiceAccountCredentials"
   ]
  },
  {
   "cell_type": "markdown",
   "metadata": {},
   "source": [
    "### Functions"
   ]
  },
  {
   "cell_type": "code",
   "execution_count": 18,
   "metadata": {},
   "outputs": [],
   "source": [
    "def write_to_storage(project, bucket_name, local_filename, output_name):\n",
    "    # get time stamp into name\n",
    "    formatted_time = time.strftime('%Y_%m_%d-%H_%M_%S',time.localtime(time.time())) \n",
    "    output_name_with_timestamp=output_name + formatted_time + '.jpg'\n",
    "    # bucket orientation\n",
    "    client = storage.Client(project)\n",
    "    bucket = client.get_bucket(bucket_name)\n",
    "    blob = bucket.blob(output_name_with_timestamp)\n",
    "    # load file\n",
    "    blob.upload_from_filename(local_filename)"
   ]
  },
  {
   "cell_type": "markdown",
   "metadata": {},
   "source": [
    "### Configurations"
   ]
  },
  {
   "cell_type": "code",
   "execution_count": 19,
   "metadata": {},
   "outputs": [],
   "source": [
    "project='myproject-204318'\n",
    "bucket_name='ml_pipeline_tutorial_v0'\n",
    "local_filename='caltrain.jpg'\n",
    "output_name='caltrain'"
   ]
  },
  {
   "cell_type": "markdown",
   "metadata": {},
   "source": [
    "### Main"
   ]
  },
  {
   "cell_type": "code",
   "execution_count": 21,
   "metadata": {},
   "outputs": [],
   "source": [
    "write_to_storage(project, bucket_name, local_filename, output_name)"
   ]
  },
  {
   "cell_type": "code",
   "execution_count": null,
   "metadata": {},
   "outputs": [],
   "source": []
  }
 ],
 "metadata": {
  "kernelspec": {
   "display_name": "Pyton Tensorflow 2_7",
   "language": "python",
   "name": "tensorflow"
  },
  "language_info": {
   "codemirror_mode": {
    "name": "ipython",
    "version": 2
   },
   "file_extension": ".py",
   "mimetype": "text/x-python",
   "name": "python",
   "nbconvert_exporter": "python",
   "pygments_lexer": "ipython2",
   "version": "2.7.15"
  }
 },
 "nbformat": 4,
 "nbformat_minor": 2
}
